{
 "cells": [
  {
   "cell_type": "code",
   "execution_count": 7,
   "id": "7f738d52",
   "metadata": {},
   "outputs": [
    {
     "name": "stdout",
     "output_type": "stream",
     "text": [
      "········\n"
     ]
    }
   ],
   "source": [
    "import getpass\n",
    "import pandas as pd\n",
    "import numpy as np\n",
    "import mysql.connector \n",
    "from sqlalchemy import create_engine\n",
    "\n",
    "# Saves password for use in engine\n",
    "password = getpass.getpass()"
   ]
  },
  {
   "cell_type": "code",
   "execution_count": null,
   "id": "68109328",
   "metadata": {},
   "outputs": [],
   "source": [
    "# Create connection\n",
    "# Make sure to have harrypotter schema already created in MySQL \n",
    "conn = mysql.connector.connect(host='localhost',\n",
    "                        user='root',\n",
    "                        passwd=password)\n",
    "cursor = conn.cursor()\n",
    "cursor\n",
    "cursor.execute(\"CREATE DATABASE IF NOT EXISTS harrypotter\")"
   ]
  },
  {
   "cell_type": "code",
   "execution_count": 9,
   "id": "81ad977d",
   "metadata": {},
   "outputs": [
    {
     "data": {
      "text/plain": [
       "936"
      ]
     },
     "execution_count": 9,
     "metadata": {},
     "output_type": "execute_result"
    }
   ],
   "source": [
    "# read the pickle \n",
    "all_house_characters = pd.read_pickle(\"./all_house_characters.pkl\")  \n",
    "all_house_characters \n",
    "\n",
    "\n",
    "# sending to sql database\n",
    "all_house_characters.to_sql('character', con = engine, if_exists = 'replace')"
   ]
  }
 ],
 "metadata": {
  "kernelspec": {
   "display_name": "Python 3 (ipykernel)",
   "language": "python",
   "name": "python3"
  },
  "language_info": {
   "codemirror_mode": {
    "name": "ipython",
    "version": 3
   },
   "file_extension": ".py",
   "mimetype": "text/x-python",
   "name": "python",
   "nbconvert_exporter": "python",
   "pygments_lexer": "ipython3",
   "version": "3.11.7"
  }
 },
 "nbformat": 4,
 "nbformat_minor": 5
}
