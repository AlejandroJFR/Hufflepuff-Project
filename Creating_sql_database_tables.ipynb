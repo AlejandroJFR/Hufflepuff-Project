{
 "cells": [
  {
   "cell_type": "code",
   "execution_count": 1,
   "id": "7f738d52",
   "metadata": {},
   "outputs": [],
   "source": [
    "import getpass\n",
    "import pandas as pd\n",
    "import numpy as np\n",
    "import mysql.connector \n",
    "from sqlalchemy import create_engine\n",
    "\n",
    "# Saves password for use in engine\n",
    "password = getpass.getpass()"
   ]
  },
  {
   "cell_type": "code",
   "execution_count": 2,
   "id": "68109328",
   "metadata": {},
   "outputs": [],
   "source": [
    "# Create connection\n",
    "# Make sure to have harrypotter schema already created in MySQL \n",
    "conn = mysql.connector.connect(host='localhost',\n",
    "                        user='root',\n",
    "                        passwd=password)\n",
    "cursor = conn.cursor()\n",
    "cursor\n",
    "cursor.execute(\"CREATE DATABASE IF NOT EXISTS harrypotter\")"
   ]
  },
  {
   "cell_type": "code",
   "execution_count": 4,
   "id": "9cab50fd",
   "metadata": {},
   "outputs": [],
   "source": [
    "# Create engine\n",
    "# Make sure to have harrypotter schema already created in MySQL \n",
    "hp = \"harrypotter\"\n",
    "connection_string = 'mysql+pymysql://root:' + password + '@localhost/'+hp\n",
    "engine = create_engine(connection_string)     # saves the connection string as object engine"
   ]
  },
  {
   "cell_type": "code",
   "execution_count": 7,
   "id": "81ad977d",
   "metadata": {},
   "outputs": [
    {
     "data": {
      "text/plain": [
       "936"
      ]
     },
     "execution_count": 7,
     "metadata": {},
     "output_type": "execute_result"
    }
   ],
   "source": [
    "# read the pickle \n",
    "all_house_characters = pd.read_pickle(\"./all_house_characters.pkl\")  \n",
    "all_house_characters \n",
    "\n",
    "\n",
    "# sending to sql database\n",
    "all_house_characters.to_sql('character', con = engine, if_exists = 'replace')"
   ]
  },
  {
   "cell_type": "code",
   "execution_count": 5,
   "id": "ae12bdb4",
   "metadata": {},
   "outputs": [
    {
     "data": {
      "text/plain": [
       "315"
      ]
     },
     "execution_count": 5,
     "metadata": {},
     "output_type": "execute_result"
    }
   ],
   "source": [
    "# read the pickle \n",
    "spells_data = pd.read_pickle(\"./spells_data.pkl\")  \n",
    "spells_data\n",
    "\n",
    "\n",
    "# sending to sql database\n",
    "spells_data.to_sql('spells_data', con = engine, if_exists = 'replace')"
   ]
  },
  {
   "cell_type": "code",
   "execution_count": 6,
   "id": "1de07893",
   "metadata": {},
   "outputs": [
    {
     "data": {
      "text/plain": [
       "168"
      ]
     },
     "execution_count": 6,
     "metadata": {},
     "output_type": "execute_result"
    }
   ],
   "source": [
    "# read the pickle \n",
    "potions_data = pd.read_pickle(\"./potions_data.pkl\")  \n",
    "potions_data\n",
    "\n",
    "\n",
    "# sending to sql database\n",
    "potions_data.to_sql('potions_data', con = engine, if_exists = 'replace')"
   ]
  },
  {
   "cell_type": "code",
   "execution_count": null,
   "id": "07b7b72e",
   "metadata": {},
   "outputs": [],
   "source": []
  }
 ],
 "metadata": {
  "kernelspec": {
   "display_name": "Python 3 (ipykernel)",
   "language": "python",
   "name": "python3"
  },
  "language_info": {
   "codemirror_mode": {
    "name": "ipython",
    "version": 3
   },
   "file_extension": ".py",
   "mimetype": "text/x-python",
   "name": "python",
   "nbconvert_exporter": "python",
   "pygments_lexer": "ipython3",
   "version": "3.11.7"
  }
 },
 "nbformat": 4,
 "nbformat_minor": 5
}
