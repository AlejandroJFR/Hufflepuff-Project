{
 "cells": [
  {
   "cell_type": "code",
   "execution_count": null,
   "metadata": {},
   "outputs": [],
   "source": [
    "import pandas as pd\n",
    "import json\n",
    "import requests \n",
    "\n",
    "spells_url = 'https://api.potterdb.com/v1/spells'\n",
    "potions_url = 'https://api.potterdb.com/v1/potions'\n",
    "\n",
    "headers = {\n",
    "\t\"x-rapidapi-host\": \"api.potterdb.com\",\n",
    "\t\"Content-Type\": \"application/json\"\n",
    "}"
   ]
  },
  {
   "cell_type": "code",
   "execution_count": null,
   "metadata": {},
   "outputs": [],
   "source": [
    "# Extract relevant information and filter for house characters\n",
    "def extract_house_characters(house):\n",
    "    \n",
    "    # Initialize an empty list to store house characters\n",
    "    house_characters = []\n",
    "    \n",
    "    house_url = f'https://api.potterdb.com/v1/characters?filter[house_cont]={house}'\n",
    "    \n",
    "\n",
    "    # Fetch data from the API with pagination\n",
    "    current_page = 1\n",
    "    while True:\n",
    "        response = requests.get(house_url, headers=headers, params={\"page[number]\": current_page})\n",
    "        if response.status_code == 200:\n",
    "            data = response.json()\n",
    "            for character in data['data']:\n",
    "                attributes = character['attributes']\n",
    "                if attributes['house'] == house:\n",
    "                    house_characters.append({\n",
    "                        'name': attributes.get('name'),\n",
    "                        'house': attributes.get('house'),\n",
    "                        'gender': attributes.get('gender'),\n",
    "                        'blood_status': attributes.get('blood_status')\n",
    "                    })\n",
    "            # Check if there is a next page\n",
    "            if 'links' in data and 'next' in data['links']:\n",
    "                current_page += 1\n",
    "            else:\n",
    "                break\n",
    "        else:\n",
    "            print(\"Could not get response from API\")\n",
    "            break\n",
    "\n",
    "    # Create a DataFrame from the collected data\n",
    "    df_house = pd.DataFrame(house_characters)\n",
    "    return df_house"
   ]
  },
  {
   "cell_type": "code",
   "execution_count": null,
   "metadata": {},
   "outputs": [],
   "source": [
    "hufflepuff_characters = extract_house_characters('Hufflepuff')\n",
    "hufflepuff_characters"
   ]
  },
  {
   "cell_type": "code",
   "execution_count": null,
   "metadata": {},
   "outputs": [],
   "source": [
    "ravenclaw_characters = extract_house_characters('Ravenclaw')\n",
    "ravenclaw_characters"
   ]
  },
  {
   "cell_type": "code",
   "execution_count": null,
   "metadata": {},
   "outputs": [],
   "source": [
    "slytherin_characters = extract_house_characters('Slytherin')\n",
    "slytherin_characters"
   ]
  },
  {
   "cell_type": "code",
   "execution_count": null,
   "metadata": {},
   "outputs": [],
   "source": [
    "gryffindor_characters = extract_house_characters('Gryffindor')\n",
    "gryffindor_characters"
   ]
  },
  {
   "cell_type": "code",
   "execution_count": null,
   "metadata": {},
   "outputs": [],
   "source": [
    "all_house_characters = pd.concat([gryffindor_characters, slytherin_characters, ravenclaw_characters, hufflepuff_characters], ignore_index=True)\n",
    "\n",
    "all_house_characters"
   ]
  },
  {
   "cell_type": "code",
   "execution_count": null,
   "metadata": {},
   "outputs": [],
   "source": [
    "# getting spells\n",
    "response = requests.get(spells_url.format(headers=headers))\n",
    "if response.status_code == 200:\n",
    "    data = response.json()\n",
    "else:\n",
    "    print(\"Could not get response from API\")\n",
    "    \n",
    "if data:\n",
    "        for spells in data['data']:\n",
    "            attributes = spells['attributes']\n",
    "            print(attributes.get('category'))\n",
    "\n"
   ]
  },
  {
   "cell_type": "code",
   "execution_count": null,
   "metadata": {
    "scrolled": true
   },
   "outputs": [],
   "source": [
    "#getting potions\n",
    "\n",
    "response = requests.get(potions_url.format(headers=headers))\n",
    "if response.status_code == 200:\n",
    "    data = response.json()\n",
    "else:\n",
    "    print(\"Could not get response from API\")\n",
    "    \n",
    "if data:\n",
    "        for potions in data['data']:\n",
    "            attributes = potions['attributes']\n",
    "            print(attributes.get('creator'))"
   ]
  },
  {
   "cell_type": "code",
   "execution_count": null,
   "metadata": {},
   "outputs": [],
   "source": [
    "#final character data set\n",
    "all_house_characters"
   ]
  },
  {
   "cell_type": "code",
   "execution_count": null,
   "metadata": {},
   "outputs": [],
   "source": [
    "#pickle!\n",
    "\n",
    "all_house_characters.to_pickle(\"./all_house_characters.pkl\") "
   ]
  }
 ],
 "metadata": {
  "kernelspec": {
   "display_name": "Python 3 (ipykernel)",
   "language": "python",
   "name": "python3"
  },
  "language_info": {
   "codemirror_mode": {
    "name": "ipython",
    "version": 3
   },
   "file_extension": ".py",
   "mimetype": "text/x-python",
   "name": "python",
   "nbconvert_exporter": "python",
   "pygments_lexer": "ipython3",
   "version": "3.11.7"
  }
 },
 "nbformat": 4,
 "nbformat_minor": 2
}
